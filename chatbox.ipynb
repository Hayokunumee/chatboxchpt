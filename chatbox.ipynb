{
 "cells": [
  {
   "cell_type": "code",
   "execution_count": 10,
   "metadata": {},
   "outputs": [
    {
     "name": "stdout",
     "output_type": "stream",
     "text": [
      "Requirement already satisfied: nltk in c:\\users\\sarah\\appdata\\local\\programs\\python\\python311\\lib\\site-packages (3.8.1)\n",
      "Requirement already satisfied: click in c:\\users\\sarah\\appdata\\local\\programs\\python\\python311\\lib\\site-packages (from nltk) (8.1.7)\n",
      "Requirement already satisfied: joblib in c:\\users\\sarah\\appdata\\local\\programs\\python\\python311\\lib\\site-packages (from nltk) (1.3.2)\n",
      "Requirement already satisfied: regex>=2021.8.3 in c:\\users\\sarah\\appdata\\local\\programs\\python\\python311\\lib\\site-packages (from nltk) (2024.4.16)\n",
      "Requirement already satisfied: tqdm in c:\\users\\sarah\\appdata\\local\\programs\\python\\python311\\lib\\site-packages (from nltk) (4.66.2)\n",
      "Requirement already satisfied: colorama in c:\\users\\sarah\\appdata\\local\\programs\\python\\python311\\lib\\site-packages (from click->nltk) (0.4.6)\n",
      "Note: you may need to restart the kernel to use updated packages.\n"
     ]
    }
   ],
   "source": [
    "pip install nltk"
   ]
  },
  {
   "cell_type": "code",
   "execution_count": 3,
   "metadata": {},
   "outputs": [
    {
     "name": "stderr",
     "output_type": "stream",
     "text": [
      "[nltk_data] Downloading package stopwords to\n",
      "[nltk_data]     C:\\Users\\sarah\\AppData\\Roaming\\nltk_data...\n",
      "[nltk_data]   Package stopwords is already up-to-date!\n",
      "[nltk_data] Downloading package punkt to\n",
      "[nltk_data]     C:\\Users\\sarah\\AppData\\Roaming\\nltk_data...\n",
      "[nltk_data]   Package punkt is already up-to-date!\n",
      "[nltk_data] Downloading package wordnet to\n",
      "[nltk_data]     C:\\Users\\sarah\\AppData\\Roaming\\nltk_data...\n",
      "[nltk_data]   Package wordnet is already up-to-date!\n"
     ]
    },
    {
     "data": {
      "text/plain": [
       "True"
      ]
     },
     "execution_count": 3,
     "metadata": {},
     "output_type": "execute_result"
    }
   ],
   "source": [
    "import nltk\n",
    "import random\n",
    "from sklearn.feature_extraction.text import TfidfVectorizer\n",
    "from sklearn.metrics.pairwise import cosine_similarity      \n",
    "import pandas as pd\n",
    "import warnings\n",
    "warnings.filterwarnings('ignore')\n",
    "# import spacy\n",
    "lemmatizer = nltk.stem.WordNetLemmatizer()\n",
    "\n",
    "# Download required NLTK data\n",
    "nltk.download('stopwords')\n",
    "nltk.download('punkt')\n",
    "nltk.download('wordnet')"
   ]
  },
  {
   "cell_type": "code",
   "execution_count": 4,
   "metadata": {},
   "outputs": [
    {
     "data": {
      "text/html": [
       "<div>\n",
       "<style scoped>\n",
       "    .dataframe tbody tr th:only-of-type {\n",
       "        vertical-align: middle;\n",
       "    }\n",
       "\n",
       "    .dataframe tbody tr th {\n",
       "        vertical-align: top;\n",
       "    }\n",
       "\n",
       "    .dataframe thead th {\n",
       "        text-align: right;\n",
       "    }\n",
       "</style>\n",
       "<table border=\"1\" class=\"dataframe\">\n",
       "  <thead>\n",
       "    <tr style=\"text-align: right;\">\n",
       "      <th></th>\n",
       "      <th>0</th>\n",
       "      <th>1</th>\n",
       "    </tr>\n",
       "  </thead>\n",
       "  <tbody>\n",
       "    <tr>\n",
       "      <th>0</th>\n",
       "      <td>Customer</td>\n",
       "      <td>Hi, I'm looking to buy a new phone, and I'm i...</td>\n",
       "    </tr>\n",
       "    <tr>\n",
       "      <th>1</th>\n",
       "      <td>Sales Agent</td>\n",
       "      <td>Great, we have a wide range of Apple products...</td>\n",
       "    </tr>\n",
       "    <tr>\n",
       "      <th>2</th>\n",
       "      <td>Customer</td>\n",
       "      <td>Well, I want a phone with a good camera, long...</td>\n",
       "    </tr>\n",
       "    <tr>\n",
       "      <th>3</th>\n",
       "      <td>Sales Agent</td>\n",
       "      <td>Absolutely. We have a lot of great options th...</td>\n",
       "    </tr>\n",
       "    <tr>\n",
       "      <th>4</th>\n",
       "      <td>Customer</td>\n",
       "      <td>No, I haven't. Tell me more about it.</td>\n",
       "    </tr>\n",
       "    <tr>\n",
       "      <th>5</th>\n",
       "      <td>Sales Agent</td>\n",
       "      <td>The iPhone 15 Pro Max has a 48-megapixel main...</td>\n",
       "    </tr>\n",
       "    <tr>\n",
       "      <th>6</th>\n",
       "      <td>Customer</td>\n",
       "      <td>That sounds great. How much does it cost?</td>\n",
       "    </tr>\n",
       "    <tr>\n",
       "      <th>7</th>\n",
       "      <td>Sales Agent</td>\n",
       "      <td>The iPhone 15 Pro Max starts at  ₦2,099,000.0...</td>\n",
       "    </tr>\n",
       "    <tr>\n",
       "      <th>8</th>\n",
       "      <td>Customer</td>\n",
       "      <td>Okay, I'm interested. But I have a few more q...</td>\n",
       "    </tr>\n",
       "    <tr>\n",
       "      <th>9</th>\n",
       "      <td>Sales Agent</td>\n",
       "      <td>Every iPhone comes with a one year of hardwar...</td>\n",
       "    </tr>\n",
       "    <tr>\n",
       "      <th>10</th>\n",
       "      <td>Customer</td>\n",
       "      <td>That's good to know. And what about the opera...</td>\n",
       "    </tr>\n",
       "    <tr>\n",
       "      <th>11</th>\n",
       "      <td>Sales Agent</td>\n",
       "      <td>No, it does not come with the latest Android ...</td>\n",
       "    </tr>\n",
       "    <tr>\n",
       "      <th>12</th>\n",
       "      <td>Customer</td>\n",
       "      <td>Okay, that's good. But I'm also interested in...</td>\n",
       "    </tr>\n",
       "    <tr>\n",
       "      <th>13</th>\n",
       "      <td>Sales Agent</td>\n",
       "      <td>Absolutely. The iPhone 13 Pro Max, and the iP...</td>\n",
       "    </tr>\n",
       "    <tr>\n",
       "      <th>14</th>\n",
       "      <td>Splash, Water, and Dust Resistant which is 3 R...</td>\n",
       "      <td>NaN</td>\n",
       "    </tr>\n",
       "    <tr>\n",
       "      <th>15</th>\n",
       "      <td>Customer</td>\n",
       "      <td>That sounds like a good option for me. How mu...</td>\n",
       "    </tr>\n",
       "    <tr>\n",
       "      <th>16</th>\n",
       "      <td>Sales Agent</td>\n",
       "      <td>The iPhone 13 Pro starts at N985,000, while t...</td>\n",
       "    </tr>\n",
       "    <tr>\n",
       "      <th>17</th>\n",
       "      <td>Customer</td>\n",
       "      <td>Okay, I'll think about it. But can you also t...</td>\n",
       "    </tr>\n",
       "    <tr>\n",
       "      <th>18</th>\n",
       "      <td>Sales Agent</td>\n",
       "      <td>Of course. There are different iPad under the...</td>\n",
       "    </tr>\n",
       "    <tr>\n",
       "      <th>19</th>\n",
       "      <td>Customer</td>\n",
       "      <td>Wow, can I know more about the iPad Pro?</td>\n",
       "    </tr>\n",
       "    <tr>\n",
       "      <th>20</th>\n",
       "      <td>Sales Agent</td>\n",
       "      <td>Of course. We have the iPad Pro 11‑inch, and ...</td>\n",
       "    </tr>\n",
       "    <tr>\n",
       "      <th>21</th>\n",
       "      <td>Customer</td>\n",
       "      <td>That sounds really cool, but it also sounds e...</td>\n",
       "    </tr>\n",
       "    <tr>\n",
       "      <th>22</th>\n",
       "      <td>Sales Agent</td>\n",
       "      <td>The 12.9-inch iPad Pro M2 Chip is between ₦3,...</td>\n",
       "    </tr>\n",
       "    <tr>\n",
       "      <th>23</th>\n",
       "      <td>Customer</td>\n",
       "      <td>Hmm, I'm not sure. That's a lot of money for ...</td>\n",
       "    </tr>\n",
       "    <tr>\n",
       "      <th>24</th>\n",
       "      <td>Sales Agent</td>\n",
       "      <td>I understand. The Apple products are definite...</td>\n",
       "    </tr>\n",
       "    <tr>\n",
       "      <th>25</th>\n",
       "      <td>Customer</td>\n",
       "      <td>Okay, can you tell me more about the iPhone X...</td>\n",
       "    </tr>\n",
       "    <tr>\n",
       "      <th>26</th>\n",
       "      <td>Sales Agent</td>\n",
       "      <td>Sure, the iPhone XS Max, which comes in 64GB,...</td>\n",
       "    </tr>\n",
       "    <tr>\n",
       "      <th>27</th>\n",
       "      <td>Customer</td>\n",
       "      <td>That sounds like a great option for me. How m...</td>\n",
       "    </tr>\n",
       "    <tr>\n",
       "      <th>28</th>\n",
       "      <td>Sales Agent</td>\n",
       "      <td>The iPhone XS Max starts at ₦750,440, but as ...</td>\n",
       "    </tr>\n",
       "    <tr>\n",
       "      <th>29</th>\n",
       "      <td>Customer</td>\n",
       "      <td>Okay, I'll definitely consider it. But before...</td>\n",
       "    </tr>\n",
       "    <tr>\n",
       "      <th>30</th>\n",
       "      <td>Sales Agent</td>\n",
       "      <td>Of course. We have a few different financing ...</td>\n",
       "    </tr>\n",
       "    <tr>\n",
       "      <th>31</th>\n",
       "      <td>Customer</td>\n",
       "      <td>That's good to know. And what if I have issue...</td>\n",
       "    </tr>\n",
       "    <tr>\n",
       "      <th>32</th>\n",
       "      <td>Sales Agent</td>\n",
       "      <td>Yes, we offer a lot of support options for ou...</td>\n",
       "    </tr>\n",
       "    <tr>\n",
       "      <th>33</th>\n",
       "      <td>Customer</td>\n",
       "      <td>Okay, that sounds great. I think I'm interest...</td>\n",
       "    </tr>\n",
       "    <tr>\n",
       "      <th>34</th>\n",
       "      <td>Sales Agent</td>\n",
       "      <td>Great, I'm glad to hear that. To buy the phon...</td>\n",
       "    </tr>\n",
       "    <tr>\n",
       "      <th>35</th>\n",
       "      <td>Customer</td>\n",
       "      <td>Okay, that sounds simple enough. Thanks for a...</td>\n",
       "    </tr>\n",
       "    <tr>\n",
       "      <th>36</th>\n",
       "      <td>Sales Agent</td>\n",
       "      <td>You're welcome. If you have any other questio...</td>\n",
       "    </tr>\n",
       "  </tbody>\n",
       "</table>\n",
       "</div>"
      ],
      "text/plain": [
       "                                                    0  \\\n",
       "0                                            Customer   \n",
       "1                                         Sales Agent   \n",
       "2                                            Customer   \n",
       "3                                         Sales Agent   \n",
       "4                                            Customer   \n",
       "5                                         Sales Agent   \n",
       "6                                            Customer   \n",
       "7                                         Sales Agent   \n",
       "8                                            Customer   \n",
       "9                                         Sales Agent   \n",
       "10                                           Customer   \n",
       "11                                        Sales Agent   \n",
       "12                                           Customer   \n",
       "13                                        Sales Agent   \n",
       "14  Splash, Water, and Dust Resistant which is 3 R...   \n",
       "15                                           Customer   \n",
       "16                                        Sales Agent   \n",
       "17                                           Customer   \n",
       "18                                        Sales Agent   \n",
       "19                                           Customer   \n",
       "20                                        Sales Agent   \n",
       "21                                           Customer   \n",
       "22                                        Sales Agent   \n",
       "23                                           Customer   \n",
       "24                                        Sales Agent   \n",
       "25                                           Customer   \n",
       "26                                        Sales Agent   \n",
       "27                                           Customer   \n",
       "28                                        Sales Agent   \n",
       "29                                           Customer   \n",
       "30                                        Sales Agent   \n",
       "31                                           Customer   \n",
       "32                                        Sales Agent   \n",
       "33                                           Customer   \n",
       "34                                        Sales Agent   \n",
       "35                                           Customer   \n",
       "36                                        Sales Agent   \n",
       "\n",
       "                                                    1  \n",
       "0    Hi, I'm looking to buy a new phone, and I'm i...  \n",
       "1    Great, we have a wide range of Apple products...  \n",
       "2    Well, I want a phone with a good camera, long...  \n",
       "3    Absolutely. We have a lot of great options th...  \n",
       "4               No, I haven't. Tell me more about it.  \n",
       "5    The iPhone 15 Pro Max has a 48-megapixel main...  \n",
       "6           That sounds great. How much does it cost?  \n",
       "7    The iPhone 15 Pro Max starts at  ₦2,099,000.0...  \n",
       "8    Okay, I'm interested. But I have a few more q...  \n",
       "9    Every iPhone comes with a one year of hardwar...  \n",
       "10   That's good to know. And what about the opera...  \n",
       "11   No, it does not come with the latest Android ...  \n",
       "12   Okay, that's good. But I'm also interested in...  \n",
       "13   Absolutely. The iPhone 13 Pro Max, and the iP...  \n",
       "14                                                NaN  \n",
       "15   That sounds like a good option for me. How mu...  \n",
       "16   The iPhone 13 Pro starts at N985,000, while t...  \n",
       "17   Okay, I'll think about it. But can you also t...  \n",
       "18   Of course. There are different iPad under the...  \n",
       "19           Wow, can I know more about the iPad Pro?  \n",
       "20   Of course. We have the iPad Pro 11‑inch, and ...  \n",
       "21   That sounds really cool, but it also sounds e...  \n",
       "22   The 12.9-inch iPad Pro M2 Chip is between ₦3,...  \n",
       "23   Hmm, I'm not sure. That's a lot of money for ...  \n",
       "24   I understand. The Apple products are definite...  \n",
       "25   Okay, can you tell me more about the iPhone X...  \n",
       "26   Sure, the iPhone XS Max, which comes in 64GB,...  \n",
       "27   That sounds like a great option for me. How m...  \n",
       "28   The iPhone XS Max starts at ₦750,440, but as ...  \n",
       "29   Okay, I'll definitely consider it. But before...  \n",
       "30   Of course. We have a few different financing ...  \n",
       "31   That's good to know. And what if I have issue...  \n",
       "32   Yes, we offer a lot of support options for ou...  \n",
       "33   Okay, that sounds great. I think I'm interest...  \n",
       "34   Great, I'm glad to hear that. To buy the phon...  \n",
       "35   Okay, that sounds simple enough. Thanks for a...  \n",
       "36   You're welcome. If you have any other questio...  "
      ]
     },
     "execution_count": 4,
     "metadata": {},
     "output_type": "execute_result"
    }
   ],
   "source": [
    "data = pd.read_csv('iPhone Dialog.txt', sep = ':', header = None)\n",
    "data"
   ]
  },
  {
   "cell_type": "code",
   "execution_count": 13,
   "metadata": {},
   "outputs": [
    {
     "data": {
      "text/html": [
       "<div>\n",
       "<style scoped>\n",
       "    .dataframe tbody tr th:only-of-type {\n",
       "        vertical-align: middle;\n",
       "    }\n",
       "\n",
       "    .dataframe tbody tr th {\n",
       "        vertical-align: top;\n",
       "    }\n",
       "\n",
       "    .dataframe thead th {\n",
       "        text-align: right;\n",
       "    }\n",
       "</style>\n",
       "<table border=\"1\" class=\"dataframe\">\n",
       "  <thead>\n",
       "    <tr style=\"text-align: right;\">\n",
       "      <th></th>\n",
       "      <th>Question</th>\n",
       "      <th>Answer</th>\n",
       "    </tr>\n",
       "  </thead>\n",
       "  <tbody>\n",
       "    <tr>\n",
       "      <th>0</th>\n",
       "      <td>Hi, I'm looking to buy a new phone, and I'm i...</td>\n",
       "      <td>Great, we have a wide range of Apple products...</td>\n",
       "    </tr>\n",
       "    <tr>\n",
       "      <th>1</th>\n",
       "      <td>Well, I want a phone with a good camera, long...</td>\n",
       "      <td>Absolutely. We have a lot of great options th...</td>\n",
       "    </tr>\n",
       "    <tr>\n",
       "      <th>2</th>\n",
       "      <td>No, I haven't. Tell me more about it.</td>\n",
       "      <td>The iPhone 15 Pro Max has a 48-megapixel main...</td>\n",
       "    </tr>\n",
       "    <tr>\n",
       "      <th>3</th>\n",
       "      <td>That sounds great. How much does it cost?</td>\n",
       "      <td>The iPhone 15 Pro Max starts at  ₦2,099,000.0...</td>\n",
       "    </tr>\n",
       "    <tr>\n",
       "      <th>4</th>\n",
       "      <td>Okay, I'm interested. But I have a few more q...</td>\n",
       "      <td>Every iPhone comes with a one year of hardwar...</td>\n",
       "    </tr>\n",
       "  </tbody>\n",
       "</table>\n",
       "</div>"
      ],
      "text/plain": [
       "                                            Question  \\\n",
       "0   Hi, I'm looking to buy a new phone, and I'm i...   \n",
       "1   Well, I want a phone with a good camera, long...   \n",
       "2              No, I haven't. Tell me more about it.   \n",
       "3          That sounds great. How much does it cost?   \n",
       "4   Okay, I'm interested. But I have a few more q...   \n",
       "\n",
       "                                              Answer  \n",
       "0   Great, we have a wide range of Apple products...  \n",
       "1   Absolutely. We have a lot of great options th...  \n",
       "2   The iPhone 15 Pro Max has a 48-megapixel main...  \n",
       "3   The iPhone 15 Pro Max starts at  ₦2,099,000.0...  \n",
       "4   Every iPhone comes with a one year of hardwar...  "
      ]
     },
     "execution_count": 13,
     "metadata": {},
     "output_type": "execute_result"
    }
   ],
   "source": [
    "cust = data.loc[data[0] == 'Customer']\n",
    "sales = data.loc[data[0] == 'Sales Agent']\n",
    "\n",
    "sales = sales[1].reset_index(drop = True)\n",
    "cust = cust[1].reset_index(drop = True)\n",
    "\n",
    "new_data = pd.DataFrame()\n",
    "new_data['Question'] = cust\n",
    "new_data['Answer'] = sales\n",
    "\n",
    "new_data.head()"
   ]
  },
  {
   "cell_type": "code",
   "execution_count": 14,
   "metadata": {},
   "outputs": [
    {
     "data": {
      "text/html": [
       "<div>\n",
       "<style scoped>\n",
       "    .dataframe tbody tr th:only-of-type {\n",
       "        vertical-align: middle;\n",
       "    }\n",
       "\n",
       "    .dataframe tbody tr th {\n",
       "        vertical-align: top;\n",
       "    }\n",
       "\n",
       "    .dataframe thead th {\n",
       "        text-align: right;\n",
       "    }\n",
       "</style>\n",
       "<table border=\"1\" class=\"dataframe\">\n",
       "  <thead>\n",
       "    <tr style=\"text-align: right;\">\n",
       "      <th></th>\n",
       "      <th>Question</th>\n",
       "      <th>Answer</th>\n",
       "      <th>tokenized Questions</th>\n",
       "    </tr>\n",
       "  </thead>\n",
       "  <tbody>\n",
       "    <tr>\n",
       "      <th>0</th>\n",
       "      <td>Hi, I'm looking to buy a new phone, and I'm i...</td>\n",
       "      <td>Great, we have a wide range of Apple products...</td>\n",
       "      <td>hi i looking to buy a new phone and i interest...</td>\n",
       "    </tr>\n",
       "    <tr>\n",
       "      <th>1</th>\n",
       "      <td>Well, I want a phone with a good camera, long...</td>\n",
       "      <td>Absolutely. We have a lot of great options th...</td>\n",
       "      <td>well i want a phone with a good camera long ba...</td>\n",
       "    </tr>\n",
       "    <tr>\n",
       "      <th>2</th>\n",
       "      <td>No, I haven't. Tell me more about it.</td>\n",
       "      <td>The iPhone 15 Pro Max has a 48-megapixel main...</td>\n",
       "      <td>no i have tell me more about it</td>\n",
       "    </tr>\n",
       "    <tr>\n",
       "      <th>3</th>\n",
       "      <td>That sounds great. How much does it cost?</td>\n",
       "      <td>The iPhone 15 Pro Max starts at  ₦2,099,000.0...</td>\n",
       "      <td>that sound great how much doe it cost</td>\n",
       "    </tr>\n",
       "    <tr>\n",
       "      <th>4</th>\n",
       "      <td>Okay, I'm interested. But I have a few more q...</td>\n",
       "      <td>Every iPhone comes with a one year of hardwar...</td>\n",
       "      <td>okay i interested but i have a few more questi...</td>\n",
       "    </tr>\n",
       "    <tr>\n",
       "      <th>5</th>\n",
       "      <td>That's good to know. And what about the opera...</td>\n",
       "      <td>No, it does not come with the latest Android ...</td>\n",
       "      <td>that good to know and what about the operating...</td>\n",
       "    </tr>\n",
       "    <tr>\n",
       "      <th>6</th>\n",
       "      <td>Okay, that's good. But I'm also interested in...</td>\n",
       "      <td>Absolutely. The iPhone 13 Pro Max, and the iP...</td>\n",
       "      <td>okay that good but i also interested in some o...</td>\n",
       "    </tr>\n",
       "    <tr>\n",
       "      <th>7</th>\n",
       "      <td>That sounds like a good option for me. How mu...</td>\n",
       "      <td>The iPhone 13 Pro starts at N985,000, while t...</td>\n",
       "      <td>that sound like a good option for me how much ...</td>\n",
       "    </tr>\n",
       "    <tr>\n",
       "      <th>8</th>\n",
       "      <td>Okay, I'll think about it. But can you also t...</td>\n",
       "      <td>Of course. There are different iPad under the...</td>\n",
       "      <td>okay i think about it but can you also tell me...</td>\n",
       "    </tr>\n",
       "    <tr>\n",
       "      <th>9</th>\n",
       "      <td>Wow, can I know more about the iPad Pro?</td>\n",
       "      <td>Of course. We have the iPad Pro 11‑inch, and ...</td>\n",
       "      <td>wow can i know more about the ipad pro</td>\n",
       "    </tr>\n",
       "    <tr>\n",
       "      <th>10</th>\n",
       "      <td>That sounds really cool, but it also sounds e...</td>\n",
       "      <td>The 12.9-inch iPad Pro M2 Chip is between ₦3,...</td>\n",
       "      <td>that sound really cool but it also sound expen...</td>\n",
       "    </tr>\n",
       "    <tr>\n",
       "      <th>11</th>\n",
       "      <td>Hmm, I'm not sure. That's a lot of money for ...</td>\n",
       "      <td>I understand. The Apple products are definite...</td>\n",
       "      <td>hmm i not sure that a lot of money for a gadget</td>\n",
       "    </tr>\n",
       "    <tr>\n",
       "      <th>12</th>\n",
       "      <td>Okay, can you tell me more about the iPhone X...</td>\n",
       "      <td>Sure, the iPhone XS Max, which comes in 64GB,...</td>\n",
       "      <td>okay can you tell me more about the iphone x max</td>\n",
       "    </tr>\n",
       "    <tr>\n",
       "      <th>13</th>\n",
       "      <td>That sounds like a great option for me. How m...</td>\n",
       "      <td>The iPhone XS Max starts at ₦750,440, but as ...</td>\n",
       "      <td>that sound like a great option for me how much...</td>\n",
       "    </tr>\n",
       "    <tr>\n",
       "      <th>14</th>\n",
       "      <td>Okay, I'll definitely consider it. But before...</td>\n",
       "      <td>Of course. We have a few different financing ...</td>\n",
       "      <td>okay i definitely consider it but before i mak...</td>\n",
       "    </tr>\n",
       "    <tr>\n",
       "      <th>15</th>\n",
       "      <td>That's good to know. And what if I have issue...</td>\n",
       "      <td>Yes, we offer a lot of support options for ou...</td>\n",
       "      <td>that good to know and what if i have issue wit...</td>\n",
       "    </tr>\n",
       "    <tr>\n",
       "      <th>16</th>\n",
       "      <td>Okay, that sounds great. I think I'm interest...</td>\n",
       "      <td>Great, I'm glad to hear that. To buy the phon...</td>\n",
       "      <td>okay that sound great i think i interested in ...</td>\n",
       "    </tr>\n",
       "    <tr>\n",
       "      <th>17</th>\n",
       "      <td>Okay, that sounds simple enough. Thanks for a...</td>\n",
       "      <td>You're welcome. If you have any other questio...</td>\n",
       "      <td>okay that sound simple enough thanks for all y...</td>\n",
       "    </tr>\n",
       "  </tbody>\n",
       "</table>\n",
       "</div>"
      ],
      "text/plain": [
       "                                             Question  \\\n",
       "0    Hi, I'm looking to buy a new phone, and I'm i...   \n",
       "1    Well, I want a phone with a good camera, long...   \n",
       "2               No, I haven't. Tell me more about it.   \n",
       "3           That sounds great. How much does it cost?   \n",
       "4    Okay, I'm interested. But I have a few more q...   \n",
       "5    That's good to know. And what about the opera...   \n",
       "6    Okay, that's good. But I'm also interested in...   \n",
       "7    That sounds like a good option for me. How mu...   \n",
       "8    Okay, I'll think about it. But can you also t...   \n",
       "9            Wow, can I know more about the iPad Pro?   \n",
       "10   That sounds really cool, but it also sounds e...   \n",
       "11   Hmm, I'm not sure. That's a lot of money for ...   \n",
       "12   Okay, can you tell me more about the iPhone X...   \n",
       "13   That sounds like a great option for me. How m...   \n",
       "14   Okay, I'll definitely consider it. But before...   \n",
       "15   That's good to know. And what if I have issue...   \n",
       "16   Okay, that sounds great. I think I'm interest...   \n",
       "17   Okay, that sounds simple enough. Thanks for a...   \n",
       "\n",
       "                                               Answer  \\\n",
       "0    Great, we have a wide range of Apple products...   \n",
       "1    Absolutely. We have a lot of great options th...   \n",
       "2    The iPhone 15 Pro Max has a 48-megapixel main...   \n",
       "3    The iPhone 15 Pro Max starts at  ₦2,099,000.0...   \n",
       "4    Every iPhone comes with a one year of hardwar...   \n",
       "5    No, it does not come with the latest Android ...   \n",
       "6    Absolutely. The iPhone 13 Pro Max, and the iP...   \n",
       "7    The iPhone 13 Pro starts at N985,000, while t...   \n",
       "8    Of course. There are different iPad under the...   \n",
       "9    Of course. We have the iPad Pro 11‑inch, and ...   \n",
       "10   The 12.9-inch iPad Pro M2 Chip is between ₦3,...   \n",
       "11   I understand. The Apple products are definite...   \n",
       "12   Sure, the iPhone XS Max, which comes in 64GB,...   \n",
       "13   The iPhone XS Max starts at ₦750,440, but as ...   \n",
       "14   Of course. We have a few different financing ...   \n",
       "15   Yes, we offer a lot of support options for ou...   \n",
       "16   Great, I'm glad to hear that. To buy the phon...   \n",
       "17   You're welcome. If you have any other questio...   \n",
       "\n",
       "                                  tokenized Questions  \n",
       "0   hi i looking to buy a new phone and i interest...  \n",
       "1   well i want a phone with a good camera long ba...  \n",
       "2                     no i have tell me more about it  \n",
       "3               that sound great how much doe it cost  \n",
       "4   okay i interested but i have a few more questi...  \n",
       "5   that good to know and what about the operating...  \n",
       "6   okay that good but i also interested in some o...  \n",
       "7   that sound like a good option for me how much ...  \n",
       "8   okay i think about it but can you also tell me...  \n",
       "9              wow can i know more about the ipad pro  \n",
       "10  that sound really cool but it also sound expen...  \n",
       "11    hmm i not sure that a lot of money for a gadget  \n",
       "12   okay can you tell me more about the iphone x max  \n",
       "13  that sound like a great option for me how much...  \n",
       "14  okay i definitely consider it but before i mak...  \n",
       "15  that good to know and what if i have issue wit...  \n",
       "16  okay that sound great i think i interested in ...  \n",
       "17  okay that sound simple enough thanks for all y...  "
      ]
     },
     "execution_count": 14,
     "metadata": {},
     "output_type": "execute_result"
    }
   ],
   "source": [
    "# Define a function for text preprocessing (including lemmatization)\n",
    "def preprocess_text(text):\n",
    "    # Identifies all sentences in the new_data\n",
    "    sentences = nltk.sent_tokenize(text)\n",
    "    \n",
    "    # Tokenize and lemmatize each word in each sentence\n",
    "    preprocessed_sentences = []\n",
    "    for sentence in sentences:\n",
    "        tokens = [lemmatizer.lemmatize(word.lower()) for word in nltk.word_tokenize(sentence) if word.isalnum()]\n",
    "        # Turns to basic root - each word in the tokenized word found in the tokenized sentence - if they are all alphanumeric \n",
    "        # The code above does the following:\n",
    "        # Identifies every word in the sentence \n",
    "        # Turns it to a lower case \n",
    "        # Lemmatizes it if the word is alphanumeric\n",
    "\n",
    "        preprocessed_sentence = ' '.join(tokens)\n",
    "        preprocessed_sentences.append(preprocessed_sentence)\n",
    "    \n",
    "    return ' '.join(preprocessed_sentences)\n",
    "\n",
    "\n",
    "new_data['tokenized Questions'] = new_data['Question'].apply(preprocess_text)\n",
    "new_data"
   ]
  },
  {
   "cell_type": "code",
   "execution_count": 15,
   "metadata": {},
   "outputs": [
    {
     "data": {
      "text/plain": [
       "['hi i looking to buy a new phone and i interested in apple product',\n",
       " 'well i want a phone with a good camera long battery life and plenty of storage',\n",
       " 'no i have tell me more about it',\n",
       " 'that sound great how much doe it cost',\n",
       " 'okay i interested but i have a few more question what kind of warranty come with the phone',\n",
       " 'that good to know and what about the operating system doe it come with the latest version of android',\n",
       " 'okay that good but i also interested in some of the other iphones can you tell me more about the iphone 13 pro and iphone 13 pro max',\n",
       " 'that sound like a good option for me how much doe it cost',\n",
       " 'okay i think about it but can you also tell me about the ipad i heard a lot about it and i curious',\n",
       " 'wow can i know more about the ipad pro',\n",
       " 'that sound really cool but it also sound expensive how much doe it cost',\n",
       " 'hmm i not sure that a lot of money for a gadget',\n",
       " 'okay can you tell me more about the iphone x max',\n",
       " 'that sound like a great option for me how much doe it cost',\n",
       " 'okay i definitely consider it but before i make a decision can you tell me more about the financing option',\n",
       " 'that good to know and what if i have issue with the phone do you offer any support',\n",
       " 'okay that sound great i think i interested in the iphone x max how do i go about buying it',\n",
       " 'okay that sound simple enough thanks for all your help']"
      ]
     },
     "execution_count": 15,
     "metadata": {},
     "output_type": "execute_result"
    }
   ],
   "source": [
    "xtrain = new_data['tokenized Questions'].to_list()\n",
    "xtrain"
   ]
  },
  {
   "cell_type": "code",
   "execution_count": 16,
   "metadata": {},
   "outputs": [
    {
     "name": "stdout",
     "output_type": "stream",
     "text": [
      "  (0, 73)\t0.34005872834766576\n",
      "  (0, 7)\t0.34005872834766576\n",
      "  (0, 40)\t0.2675611601872162\n",
      "  (0, 41)\t0.24422215618535598\n",
      "  (0, 4)\t0.20902989169567068\n",
      "  (0, 70)\t0.24422215618535598\n",
      "  (0, 61)\t0.34005872834766576\n",
      "  (0, 11)\t0.34005872834766576\n",
      "  (0, 88)\t0.2675611601872162\n",
      "  (0, 53)\t0.34005872834766576\n",
      "  (0, 36)\t0.34005872834766576\n"
     ]
    }
   ],
   "source": [
    "# Vectorized corpus\n",
    "tfidf_vectorizer = TfidfVectorizer()\n",
    "corpus = tfidf_vectorizer.fit_transform(xtrain)\n",
    "\n",
    "print(corpus[0])"
   ]
  },
  {
   "cell_type": "code",
   "execution_count": 17,
   "metadata": {},
   "outputs": [
    {
     "name": "stdout",
     "output_type": "stream",
     "text": [
      "hello\n"
     ]
    }
   ],
   "source": [
    "user = input('Pls ask your question: ')\n",
    "print(user)"
   ]
  },
  {
   "cell_type": "code",
   "execution_count": 18,
   "metadata": {},
   "outputs": [
    {
     "data": {
      "text/plain": [
       "'hello'"
      ]
     },
     "execution_count": 18,
     "metadata": {},
     "output_type": "execute_result"
    }
   ],
   "source": [
    "preprocess_text(user)"
   ]
  },
  {
   "cell_type": "code",
   "execution_count": 19,
   "metadata": {},
   "outputs": [
    {
     "name": "stdout",
     "output_type": "stream",
     "text": [
      "\n"
     ]
    }
   ],
   "source": [
    "# Vectorize user input\n",
    "user_transformed = tfidf_vectorizer.transform([user])\n",
    "print(user_transformed)"
   ]
  },
  {
   "cell_type": "code",
   "execution_count": 20,
   "metadata": {},
   "outputs": [
    {
     "data": {
      "text/plain": [
       "array([[0., 0., 0., 0., 0., 0., 0., 0., 0., 0., 0., 0., 0., 0., 0., 0.,\n",
       "        0., 0.]])"
      ]
     },
     "execution_count": 20,
     "metadata": {},
     "output_type": "execute_result"
    }
   ],
   "source": [
    "# Find similarity\n",
    "similarity_scores = cosine_similarity(user_transformed, corpus)\n",
    "similarity_scores"
   ]
  },
  {
   "cell_type": "code",
   "execution_count": 21,
   "metadata": {},
   "outputs": [
    {
     "data": {
      "text/plain": [
       "' Great, we have a wide range of Apple products to choose from. What particular Apple product are you inerested in?'"
      ]
     },
     "execution_count": 21,
     "metadata": {},
     "output_type": "execute_result"
    }
   ],
   "source": [
    "new_data['Answer'].iloc[similarity_scores.argmax()]"
   ]
  },
  {
   "cell_type": "code",
   "execution_count": 22,
   "metadata": {},
   "outputs": [
    {
     "name": "stdout",
     "output_type": "stream",
     "text": [
      "i want to buy iphone 13 pro\n"
     ]
    }
   ],
   "source": [
    "user = input('Pls ask your question: ')\n",
    "print(user)"
   ]
  },
  {
   "cell_type": "code",
   "execution_count": 23,
   "metadata": {},
   "outputs": [
    {
     "data": {
      "text/plain": [
       "'i want to buy iphone 13 pro'"
      ]
     },
     "execution_count": 23,
     "metadata": {},
     "output_type": "execute_result"
    }
   ],
   "source": [
    "preprocess_text(user)"
   ]
  },
  {
   "cell_type": "code",
   "execution_count": 24,
   "metadata": {},
   "outputs": [
    {
     "name": "stdout",
     "output_type": "stream",
     "text": [
      "  (0, 90)\t0.4470227453885812\n",
      "  (0, 88)\t0.3517213775614719\n",
      "  (0, 72)\t0.3912750189422886\n",
      "  (0, 43)\t0.3517213775614719\n",
      "  (0, 11)\t0.4470227453885812\n",
      "  (0, 0)\t0.4470227453885812\n"
     ]
    }
   ],
   "source": [
    "# Vectorize user input\n",
    "user_transformed = tfidf_vectorizer.transform([user])\n",
    "print(user_transformed)"
   ]
  },
  {
   "cell_type": "code",
   "execution_count": 25,
   "metadata": {},
   "outputs": [
    {
     "data": {
      "text/plain": [
       "array([[0.24612097, 0.13938089, 0.        , 0.        , 0.        ,\n",
       "        0.08117532, 0.47106757, 0.        , 0.        , 0.16124313,\n",
       "        0.        , 0.        , 0.13612453, 0.        , 0.        ,\n",
       "        0.08340223, 0.09385168, 0.        ]])"
      ]
     },
     "execution_count": 25,
     "metadata": {},
     "output_type": "execute_result"
    }
   ],
   "source": [
    "# Find similarity\n",
    "similarity_scores = cosine_similarity(user_transformed, corpus)\n",
    "similarity_scores"
   ]
  },
  {
   "cell_type": "code",
   "execution_count": 26,
   "metadata": {},
   "outputs": [
    {
     "data": {
      "text/plain": [
       "' Absolutely. The iPhone 13 Pro Max, and the iPhone 13 Pro both have a trio of 12MP cameras on the back. Those cover the roles of main, ultrawide and 3x telephoto duties. They both have the following features-'"
      ]
     },
     "execution_count": 26,
     "metadata": {},
     "output_type": "execute_result"
    }
   ],
   "source": [
    "new_data['Answer'].iloc[similarity_scores.argmax()]"
   ]
  },
  {
   "cell_type": "code",
   "execution_count": 27,
   "metadata": {},
   "outputs": [],
   "source": [
    "def collector():\n",
    "    user = input('Pls ask your question: ')\n",
    "    pre_user = preprocess_text(user)\n",
    "    vect_user = tfidf_vectorizer.transform([pre_user])\n",
    "    similarity_scores = cosine_similarity(vect_user, corpus)\n",
    "    most_similar_index = similarity_scores.argmax()\n",
    "    \n",
    "    return new_data['Answer'].iloc[most_similar_index]"
   ]
  },
  {
   "cell_type": "code",
   "execution_count": 28,
   "metadata": {},
   "outputs": [
    {
     "data": {
      "text/plain": [
       "' Great, we have a wide range of Apple products to choose from. What particular Apple product are you inerested in?'"
      ]
     },
     "execution_count": 28,
     "metadata": {},
     "output_type": "execute_result"
    }
   ],
   "source": [
    "collector()"
   ]
  },
  {
   "cell_type": "code",
   "execution_count": 29,
   "metadata": {},
   "outputs": [
    {
     "name": "stdout",
     "output_type": "stream",
     "text": [
      " Great, we have a wide range of Apple products to choose from. What particular Apple product are you inerested in?\n",
      " Great, we have a wide range of Apple products to choose from. What particular Apple product are you inerested in?\n",
      " Great, we have a wide range of Apple products to choose from. What particular Apple product are you inerested in?\n",
      " Great, we have a wide range of Apple products to choose from. What particular Apple product are you inerested in?\n",
      " Great, we have a wide range of Apple products to choose from. What particular Apple product are you inerested in?\n",
      " Great, we have a wide range of Apple products to choose from. What particular Apple product are you inerested in?\n",
      " Great, we have a wide range of Apple products to choose from. What particular Apple product are you inerested in?\n",
      " Great, we have a wide range of Apple products to choose from. What particular Apple product are you inerested in?\n",
      " Absolutely. The iPhone 13 Pro Max, and the iPhone 13 Pro both have a trio of 12MP cameras on the back. Those cover the roles of main, ultrawide and 3x telephoto duties. They both have the following features-\n",
      "Tainku, come again soon.\n"
     ]
    }
   ],
   "source": [
    "def responder(text):\n",
    "    user_input_processed = preprocess_text(text)\n",
    "    vectorized_user_input = tfidf_vectorizer.transform([user_input_processed])\n",
    "    similarity_score = cosine_similarity(vectorized_user_input, corpus)\n",
    "    argument_maximum = similarity_score.argmax()\n",
    "\n",
    "    print(new_data['Answer'].iloc[argument_maximum])\n",
    "\n",
    "bot_greetings = ['Hello user, I am Ayo..... Pls ask your question',\n",
    "             'Howdy, what can I do for you?',\n",
    "             'Whazzap, what you need?',\n",
    "             'Oremi, ki lo need?',\n",
    "             'Welcome user, what can I do you for?'\n",
    "             ]\n",
    "\n",
    "farewell = ['Thanks for your usage..... Bye.',\n",
    "            'Tainku, come again soon.',\n",
    "            'Gracias, hope to see you again.',\n",
    "            'Oshey oremi...... Odabo.',\n",
    "            'Bye user, thanks for your patronage.']\n",
    "\n",
    "human_greetings = ['hi', 'hello', 'hey', 'whatsup', 'good day', 'hello there', 'howdy', 'waddup']\n",
    "\n",
    "human_exists = ['bye', 'good bye', 'ciao', 'close', 'exit', 'thanks', 'thank you','close']\n",
    "\n",
    "import random\n",
    "random_greeting = random.choice(bot_greetings)\n",
    "random_farewell = random.choice(farewell)\n",
    "\n",
    "while True:\n",
    "    user_input = input('You: ')\n",
    "\n",
    "    if user_input.lower() in human_greetings:\n",
    "        print(random_greeting)\n",
    "    elif user_input.lower() in human_exists:\n",
    "        print(random_farewell)\n",
    "        break\n",
    "    else:\n",
    "        responder(user_input)"
   ]
  },
  {
   "cell_type": "code",
   "execution_count": 30,
   "metadata": {},
   "outputs": [],
   "source": [
    "# def get_response(user_input):\n",
    "#     user_input_processed = preprocess_text(user_input) # ....................... Preprocess the user's input using the preprocess_text function\n",
    "\n",
    "#     user_input_vector = tfidf_vectorizer.transform([user_input_processed])# .... Vectorize the preprocessed user input using the TF-IDF vectorizer\n",
    "\n",
    "#     similarity_scores = cosine_similarity(user_input_vector, corpus) # .. Calculate the score of similarity between the user input vector and the corpus (df) vector\n",
    "\n",
    "#     most_similar_index = similarity_scores.argmax() # ..... Find the index of the most similar question in the corpus (df) based on cosine similarity\n",
    "\n",
    "#     return new_data['Answer'].iloc[most_similar_index] # ... Retrieve the corresponding answer from the df DataFrame and return it as the chatbot's response\n",
    "\n",
    "# # create greeting list \n",
    "# greetings = [\"Hey There.... I am a creation of Ehiz Danny Agba Coder.... How can I help\",\n",
    "#             \"Hi Human.... How can I help\",\n",
    "#             'Twale baba nla, wetin dey happen nah',\n",
    "#             'How far Alaye, wetin happen'\n",
    "#             \"Good Day .... How can I help\", \n",
    "#             \"Hello There... How can I be useful to you today\",\n",
    "#             \"Hi GomyCode Student.... How can I be of use\"]\n",
    "\n",
    "# exits = ['thanks bye', 'bye', 'quit', 'exit', 'bye bye', 'close']\n",
    "# farewell = ['Thanks....see you soon', 'Babye, See you soon', 'Bye... See you later', 'Bye... come back soon']\n",
    "\n",
    "# random_farewell = random.choice(farewell) # ---------------- Randomly select a farewell message from the list\n",
    "# random_greetings = random.choice(greetings) # -------- Randomly select greeting message from the list\n",
    "\n",
    "# Test your chatbot\n",
    "# while True:\n",
    "#     user_input = input(\"You: \")\n",
    "#     if user_input.lower() in exits:\n",
    "#         print(f\"\\nChatbot: {random_farewell}!\")\n",
    "#         break\n",
    "#     if user_input.lower() in ['hi', 'hello', 'hey', 'hi there']:\n",
    "#         print(f\"\\nChatbot: {random_greetings}!\")\n",
    "#     else:   \n",
    "#         response = get_response(user_input)\n",
    "#         print(f\"\\nChatbot: {response}\")"
   ]
  }
 ],
 "metadata": {
  "kernelspec": {
   "display_name": "Python 3",
   "language": "python",
   "name": "python3"
  },
  "language_info": {
   "codemirror_mode": {
    "name": "ipython",
    "version": 3
   },
   "file_extension": ".py",
   "mimetype": "text/x-python",
   "name": "python",
   "nbconvert_exporter": "python",
   "pygments_lexer": "ipython3",
   "version": "3.11.8"
  }
 },
 "nbformat": 4,
 "nbformat_minor": 2
}
