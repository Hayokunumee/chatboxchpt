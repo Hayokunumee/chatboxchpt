{
 "cells": [
  {
   "cell_type": "code",
   "execution_count": 242,
   "metadata": {},
   "outputs": [],
   "source": [
    "import pandas as pd\n",
    "import numpy as np\n",
    "import matplotlib.pyplot as plt\n",
    "plt.style.use('ggplot')\n",
    "import seaborn as sns\n",
    "import joblib as jb\n",
    "import warnings\n",
    "from sklearn.preprocessing import StandardScaler, LabelEncoder\n",
    "from sklearn.model_selection import train_test_split\n",
    "from sklearn.linear_model import LinearRegression\n",
    "from sklearn.metrics import r2_score\n",
    "import warnings\n",
    "warnings.filterwarnings('ignore')\n"
   ]
  },
  {
   "cell_type": "code",
   "execution_count": 243,
   "metadata": {},
   "outputs": [
    {
     "data": {
      "text/html": [
       "<div>\n",
       "<style scoped>\n",
       "    .dataframe tbody tr th:only-of-type {\n",
       "        vertical-align: middle;\n",
       "    }\n",
       "\n",
       "    .dataframe tbody tr th {\n",
       "        vertical-align: top;\n",
       "    }\n",
       "\n",
       "    .dataframe thead th {\n",
       "        text-align: right;\n",
       "    }\n",
       "</style>\n",
       "<table border=\"1\" class=\"dataframe\">\n",
       "  <thead>\n",
       "    <tr style=\"text-align: right;\">\n",
       "      <th></th>\n",
       "      <th>brand</th>\n",
       "      <th>model</th>\n",
       "      <th>sd_card</th>\n",
       "      <th>main_camera</th>\n",
       "      <th>resolution</th>\n",
       "      <th>display</th>\n",
       "      <th>sim_card</th>\n",
       "      <th>os</th>\n",
       "      <th>color</th>\n",
       "      <th>region</th>\n",
       "      <th>location</th>\n",
       "      <th>screen_size(inch)</th>\n",
       "      <th>battery(mAh)</th>\n",
       "      <th>storage(GB)</th>\n",
       "      <th>ram(GB)</th>\n",
       "      <th>selfie_camera(MP)</th>\n",
       "      <th>price(¢)</th>\n",
       "    </tr>\n",
       "  </thead>\n",
       "  <tbody>\n",
       "    <tr>\n",
       "      <th>0</th>\n",
       "      <td>Samsung</td>\n",
       "      <td>Galaxy S10</td>\n",
       "      <td>yes</td>\n",
       "      <td>3 Cameras: 12, 12, 16 MP</td>\n",
       "      <td>1440 x 3040</td>\n",
       "      <td>AMOLED</td>\n",
       "      <td>Single</td>\n",
       "      <td>Android</td>\n",
       "      <td>White</td>\n",
       "      <td>Greater Accra</td>\n",
       "      <td>Circle</td>\n",
       "      <td>6.10</td>\n",
       "      <td>3400.0</td>\n",
       "      <td>128.0</td>\n",
       "      <td>8.0</td>\n",
       "      <td>10.0</td>\n",
       "      <td>2450.0</td>\n",
       "    </tr>\n",
       "    <tr>\n",
       "      <th>1</th>\n",
       "      <td>Samsung</td>\n",
       "      <td>Galaxy Note 20 Ultra</td>\n",
       "      <td>yes</td>\n",
       "      <td>3 Cameras: 108, 12, 12 MP</td>\n",
       "      <td>1440 x 3088</td>\n",
       "      <td>AMOLED</td>\n",
       "      <td>Dual</td>\n",
       "      <td>Android</td>\n",
       "      <td>Bronze</td>\n",
       "      <td>Greater Accra</td>\n",
       "      <td>Circle</td>\n",
       "      <td>6.90</td>\n",
       "      <td>4500.0</td>\n",
       "      <td>128.0</td>\n",
       "      <td>12.0</td>\n",
       "      <td>10.0</td>\n",
       "      <td>5000.0</td>\n",
       "    </tr>\n",
       "    <tr>\n",
       "      <th>2</th>\n",
       "      <td>Samsung</td>\n",
       "      <td>Galaxy A54 5G</td>\n",
       "      <td>yes</td>\n",
       "      <td>3 Cameras: 50, 12, 5 MP</td>\n",
       "      <td>1080 x 2340</td>\n",
       "      <td>Super AMOLED</td>\n",
       "      <td>Dual</td>\n",
       "      <td>Android</td>\n",
       "      <td>Black</td>\n",
       "      <td>Greater Accra</td>\n",
       "      <td>Accra Metropolitan</td>\n",
       "      <td>6.40</td>\n",
       "      <td>5000.0</td>\n",
       "      <td>256.0</td>\n",
       "      <td>8.0</td>\n",
       "      <td>32.0</td>\n",
       "      <td>3000.0</td>\n",
       "    </tr>\n",
       "    <tr>\n",
       "      <th>3</th>\n",
       "      <td>Tecno</td>\n",
       "      <td>Camon 20 Pro</td>\n",
       "      <td>no</td>\n",
       "      <td>2 Cameras: 64, 2 MP</td>\n",
       "      <td>1080 x 2400</td>\n",
       "      <td>AMOLED</td>\n",
       "      <td>Dual</td>\n",
       "      <td>Android</td>\n",
       "      <td>Black</td>\n",
       "      <td>Greater Accra</td>\n",
       "      <td>Accra Metropolitan</td>\n",
       "      <td>6.67</td>\n",
       "      <td>5000.0</td>\n",
       "      <td>256.0</td>\n",
       "      <td>8.0</td>\n",
       "      <td>32.0</td>\n",
       "      <td>1900.0</td>\n",
       "    </tr>\n",
       "    <tr>\n",
       "      <th>4</th>\n",
       "      <td>Samsung</td>\n",
       "      <td>Galaxy S22 Ultra</td>\n",
       "      <td>no</td>\n",
       "      <td>4 Cameras: 108, 10, 10, 12 MP</td>\n",
       "      <td>1400 x 3088</td>\n",
       "      <td>AMOLED</td>\n",
       "      <td>Dual</td>\n",
       "      <td>Android</td>\n",
       "      <td>Black</td>\n",
       "      <td>Greater Accra</td>\n",
       "      <td>Accra Metropolitan</td>\n",
       "      <td>6.80</td>\n",
       "      <td>5000.0</td>\n",
       "      <td>512.0</td>\n",
       "      <td>12.0</td>\n",
       "      <td>40.0</td>\n",
       "      <td>5750.0</td>\n",
       "    </tr>\n",
       "  </tbody>\n",
       "</table>\n",
       "</div>"
      ],
      "text/plain": [
       "     brand                 model sd_card                    main_camera  \\\n",
       "0  Samsung            Galaxy S10     yes       3 Cameras: 12, 12, 16 MP   \n",
       "1  Samsung  Galaxy Note 20 Ultra     yes      3 Cameras: 108, 12, 12 MP   \n",
       "2  Samsung         Galaxy A54 5G     yes        3 Cameras: 50, 12, 5 MP   \n",
       "3    Tecno          Camon 20 Pro      no            2 Cameras: 64, 2 MP   \n",
       "4  Samsung      Galaxy S22 Ultra      no  4 Cameras: 108, 10, 10, 12 MP   \n",
       "\n",
       "    resolution       display sim_card       os   color         region  \\\n",
       "0  1440 x 3040        AMOLED   Single  Android   White  Greater Accra   \n",
       "1  1440 x 3088        AMOLED     Dual  Android  Bronze  Greater Accra   \n",
       "2  1080 x 2340  Super AMOLED     Dual  Android   Black  Greater Accra   \n",
       "3  1080 x 2400        AMOLED     Dual  Android   Black  Greater Accra   \n",
       "4  1400 x 3088        AMOLED     Dual  Android   Black  Greater Accra   \n",
       "\n",
       "             location  screen_size(inch)  battery(mAh)  storage(GB)  ram(GB)  \\\n",
       "0              Circle               6.10        3400.0        128.0      8.0   \n",
       "1              Circle               6.90        4500.0        128.0     12.0   \n",
       "2  Accra Metropolitan               6.40        5000.0        256.0      8.0   \n",
       "3  Accra Metropolitan               6.67        5000.0        256.0      8.0   \n",
       "4  Accra Metropolitan               6.80        5000.0        512.0     12.0   \n",
       "\n",
       "   selfie_camera(MP)  price(¢)  \n",
       "0               10.0    2450.0  \n",
       "1               10.0    5000.0  \n",
       "2               32.0    3000.0  \n",
       "3               32.0    1900.0  \n",
       "4               40.0    5750.0  "
      ]
     },
     "execution_count": 243,
     "metadata": {},
     "output_type": "execute_result"
    }
   ],
   "source": [
    "data = pd.read_csv('Mobile-Phones.csv')\n",
    "data.head()"
   ]
  },
  {
   "cell_type": "code",
   "execution_count": 244,
   "metadata": {},
   "outputs": [
    {
     "data": {
      "text/html": [
       "<div>\n",
       "<style scoped>\n",
       "    .dataframe tbody tr th:only-of-type {\n",
       "        vertical-align: middle;\n",
       "    }\n",
       "\n",
       "    .dataframe tbody tr th {\n",
       "        vertical-align: top;\n",
       "    }\n",
       "\n",
       "    .dataframe thead th {\n",
       "        text-align: right;\n",
       "    }\n",
       "</style>\n",
       "<table border=\"1\" class=\"dataframe\">\n",
       "  <thead>\n",
       "    <tr style=\"text-align: right;\">\n",
       "      <th></th>\n",
       "      <th>brand</th>\n",
       "      <th>model</th>\n",
       "      <th>sd_card</th>\n",
       "      <th>main_camera</th>\n",
       "      <th>resolution</th>\n",
       "      <th>display</th>\n",
       "      <th>sim_card</th>\n",
       "      <th>os</th>\n",
       "      <th>color</th>\n",
       "      <th>region</th>\n",
       "      <th>location</th>\n",
       "      <th>screen_size(inch)</th>\n",
       "      <th>battery(mAh)</th>\n",
       "      <th>storage(GB)</th>\n",
       "      <th>ram(GB)</th>\n",
       "      <th>selfie_camera(MP)</th>\n",
       "      <th>price(¢)</th>\n",
       "    </tr>\n",
       "  </thead>\n",
       "  <tbody>\n",
       "    <tr>\n",
       "      <th>0</th>\n",
       "      <td>Samsung</td>\n",
       "      <td>Galaxy S10</td>\n",
       "      <td>yes</td>\n",
       "      <td>3 Cameras: 12, 12, 16 MP</td>\n",
       "      <td>1440 x 3040</td>\n",
       "      <td>AMOLED</td>\n",
       "      <td>Single</td>\n",
       "      <td>Android</td>\n",
       "      <td>White</td>\n",
       "      <td>Greater Accra</td>\n",
       "      <td>Circle</td>\n",
       "      <td>6.1</td>\n",
       "      <td>3400.0</td>\n",
       "      <td>128.0</td>\n",
       "      <td>8.0</td>\n",
       "      <td>10.0</td>\n",
       "      <td>2450.0</td>\n",
       "    </tr>\n",
       "    <tr>\n",
       "      <th>1</th>\n",
       "      <td>Samsung</td>\n",
       "      <td>Galaxy Note 20 Ultra</td>\n",
       "      <td>yes</td>\n",
       "      <td>3 Cameras: 108, 12, 12 MP</td>\n",
       "      <td>1440 x 3088</td>\n",
       "      <td>AMOLED</td>\n",
       "      <td>Dual</td>\n",
       "      <td>Android</td>\n",
       "      <td>Bronze</td>\n",
       "      <td>Greater Accra</td>\n",
       "      <td>Circle</td>\n",
       "      <td>6.9</td>\n",
       "      <td>4500.0</td>\n",
       "      <td>128.0</td>\n",
       "      <td>12.0</td>\n",
       "      <td>10.0</td>\n",
       "      <td>5000.0</td>\n",
       "    </tr>\n",
       "  </tbody>\n",
       "</table>\n",
       "</div>"
      ],
      "text/plain": [
       "     brand                 model sd_card                main_camera  \\\n",
       "0  Samsung            Galaxy S10     yes   3 Cameras: 12, 12, 16 MP   \n",
       "1  Samsung  Galaxy Note 20 Ultra     yes  3 Cameras: 108, 12, 12 MP   \n",
       "\n",
       "    resolution display sim_card       os   color         region location  \\\n",
       "0  1440 x 3040  AMOLED   Single  Android   White  Greater Accra   Circle   \n",
       "1  1440 x 3088  AMOLED     Dual  Android  Bronze  Greater Accra   Circle   \n",
       "\n",
       "   screen_size(inch)  battery(mAh)  storage(GB)  ram(GB)  selfie_camera(MP)  \\\n",
       "0                6.1        3400.0        128.0      8.0               10.0   \n",
       "1                6.9        4500.0        128.0     12.0               10.0   \n",
       "\n",
       "   price(¢)  \n",
       "0    2450.0  \n",
       "1    5000.0  "
      ]
     },
     "execution_count": 244,
     "metadata": {},
     "output_type": "execute_result"
    }
   ],
   "source": [
    "df = data\n",
    "df.head(2)"
   ]
  },
  {
   "cell_type": "code",
   "execution_count": 245,
   "metadata": {},
   "outputs": [],
   "source": [
    "# df.isnull().sum()"
   ]
  },
  {
   "cell_type": "code",
   "execution_count": 246,
   "metadata": {},
   "outputs": [
    {
     "name": "stdout",
     "output_type": "stream",
     "text": [
      "Numerical Data\n"
     ]
    },
    {
     "data": {
      "text/html": [
       "<div>\n",
       "<style scoped>\n",
       "    .dataframe tbody tr th:only-of-type {\n",
       "        vertical-align: middle;\n",
       "    }\n",
       "\n",
       "    .dataframe tbody tr th {\n",
       "        vertical-align: top;\n",
       "    }\n",
       "\n",
       "    .dataframe thead th {\n",
       "        text-align: right;\n",
       "    }\n",
       "</style>\n",
       "<table border=\"1\" class=\"dataframe\">\n",
       "  <thead>\n",
       "    <tr style=\"text-align: right;\">\n",
       "      <th></th>\n",
       "      <th>screen_size(inch)</th>\n",
       "      <th>battery(mAh)</th>\n",
       "      <th>storage(GB)</th>\n",
       "      <th>ram(GB)</th>\n",
       "      <th>selfie_camera(MP)</th>\n",
       "      <th>price(¢)</th>\n",
       "    </tr>\n",
       "  </thead>\n",
       "  <tbody>\n",
       "    <tr>\n",
       "      <th>0</th>\n",
       "      <td>6.10</td>\n",
       "      <td>3400.0</td>\n",
       "      <td>128.0</td>\n",
       "      <td>8.0</td>\n",
       "      <td>10.0</td>\n",
       "      <td>2450.0</td>\n",
       "    </tr>\n",
       "    <tr>\n",
       "      <th>1</th>\n",
       "      <td>6.90</td>\n",
       "      <td>4500.0</td>\n",
       "      <td>128.0</td>\n",
       "      <td>12.0</td>\n",
       "      <td>10.0</td>\n",
       "      <td>5000.0</td>\n",
       "    </tr>\n",
       "    <tr>\n",
       "      <th>2</th>\n",
       "      <td>6.40</td>\n",
       "      <td>5000.0</td>\n",
       "      <td>256.0</td>\n",
       "      <td>8.0</td>\n",
       "      <td>32.0</td>\n",
       "      <td>3000.0</td>\n",
       "    </tr>\n",
       "    <tr>\n",
       "      <th>3</th>\n",
       "      <td>6.67</td>\n",
       "      <td>5000.0</td>\n",
       "      <td>256.0</td>\n",
       "      <td>8.0</td>\n",
       "      <td>32.0</td>\n",
       "      <td>1900.0</td>\n",
       "    </tr>\n",
       "    <tr>\n",
       "      <th>4</th>\n",
       "      <td>6.80</td>\n",
       "      <td>5000.0</td>\n",
       "      <td>512.0</td>\n",
       "      <td>12.0</td>\n",
       "      <td>40.0</td>\n",
       "      <td>5750.0</td>\n",
       "    </tr>\n",
       "  </tbody>\n",
       "</table>\n",
       "</div>"
      ],
      "text/plain": [
       "   screen_size(inch)  battery(mAh)  storage(GB)  ram(GB)  selfie_camera(MP)  \\\n",
       "0               6.10        3400.0        128.0      8.0               10.0   \n",
       "1               6.90        4500.0        128.0     12.0               10.0   \n",
       "2               6.40        5000.0        256.0      8.0               32.0   \n",
       "3               6.67        5000.0        256.0      8.0               32.0   \n",
       "4               6.80        5000.0        512.0     12.0               40.0   \n",
       "\n",
       "   price(¢)  \n",
       "0    2450.0  \n",
       "1    5000.0  \n",
       "2    3000.0  \n",
       "3    1900.0  \n",
       "4    5750.0  "
      ]
     },
     "metadata": {},
     "output_type": "display_data"
    },
    {
     "name": "stdout",
     "output_type": "stream",
     "text": [
      "\n",
      "\n",
      "Categorical Data\n"
     ]
    },
    {
     "data": {
      "text/html": [
       "<div>\n",
       "<style scoped>\n",
       "    .dataframe tbody tr th:only-of-type {\n",
       "        vertical-align: middle;\n",
       "    }\n",
       "\n",
       "    .dataframe tbody tr th {\n",
       "        vertical-align: top;\n",
       "    }\n",
       "\n",
       "    .dataframe thead th {\n",
       "        text-align: right;\n",
       "    }\n",
       "</style>\n",
       "<table border=\"1\" class=\"dataframe\">\n",
       "  <thead>\n",
       "    <tr style=\"text-align: right;\">\n",
       "      <th></th>\n",
       "      <th>brand</th>\n",
       "      <th>model</th>\n",
       "      <th>sd_card</th>\n",
       "      <th>main_camera</th>\n",
       "      <th>resolution</th>\n",
       "      <th>display</th>\n",
       "      <th>sim_card</th>\n",
       "      <th>os</th>\n",
       "      <th>color</th>\n",
       "      <th>region</th>\n",
       "      <th>location</th>\n",
       "    </tr>\n",
       "  </thead>\n",
       "  <tbody>\n",
       "    <tr>\n",
       "      <th>0</th>\n",
       "      <td>Samsung</td>\n",
       "      <td>Galaxy S10</td>\n",
       "      <td>yes</td>\n",
       "      <td>3 Cameras: 12, 12, 16 MP</td>\n",
       "      <td>1440 x 3040</td>\n",
       "      <td>AMOLED</td>\n",
       "      <td>Single</td>\n",
       "      <td>Android</td>\n",
       "      <td>White</td>\n",
       "      <td>Greater Accra</td>\n",
       "      <td>Circle</td>\n",
       "    </tr>\n",
       "    <tr>\n",
       "      <th>1</th>\n",
       "      <td>Samsung</td>\n",
       "      <td>Galaxy Note 20 Ultra</td>\n",
       "      <td>yes</td>\n",
       "      <td>3 Cameras: 108, 12, 12 MP</td>\n",
       "      <td>1440 x 3088</td>\n",
       "      <td>AMOLED</td>\n",
       "      <td>Dual</td>\n",
       "      <td>Android</td>\n",
       "      <td>Bronze</td>\n",
       "      <td>Greater Accra</td>\n",
       "      <td>Circle</td>\n",
       "    </tr>\n",
       "    <tr>\n",
       "      <th>2</th>\n",
       "      <td>Samsung</td>\n",
       "      <td>Galaxy A54 5G</td>\n",
       "      <td>yes</td>\n",
       "      <td>3 Cameras: 50, 12, 5 MP</td>\n",
       "      <td>1080 x 2340</td>\n",
       "      <td>Super AMOLED</td>\n",
       "      <td>Dual</td>\n",
       "      <td>Android</td>\n",
       "      <td>Black</td>\n",
       "      <td>Greater Accra</td>\n",
       "      <td>Accra Metropolitan</td>\n",
       "    </tr>\n",
       "    <tr>\n",
       "      <th>3</th>\n",
       "      <td>Tecno</td>\n",
       "      <td>Camon 20 Pro</td>\n",
       "      <td>no</td>\n",
       "      <td>2 Cameras: 64, 2 MP</td>\n",
       "      <td>1080 x 2400</td>\n",
       "      <td>AMOLED</td>\n",
       "      <td>Dual</td>\n",
       "      <td>Android</td>\n",
       "      <td>Black</td>\n",
       "      <td>Greater Accra</td>\n",
       "      <td>Accra Metropolitan</td>\n",
       "    </tr>\n",
       "    <tr>\n",
       "      <th>4</th>\n",
       "      <td>Samsung</td>\n",
       "      <td>Galaxy S22 Ultra</td>\n",
       "      <td>no</td>\n",
       "      <td>4 Cameras: 108, 10, 10, 12 MP</td>\n",
       "      <td>1400 x 3088</td>\n",
       "      <td>AMOLED</td>\n",
       "      <td>Dual</td>\n",
       "      <td>Android</td>\n",
       "      <td>Black</td>\n",
       "      <td>Greater Accra</td>\n",
       "      <td>Accra Metropolitan</td>\n",
       "    </tr>\n",
       "  </tbody>\n",
       "</table>\n",
       "</div>"
      ],
      "text/plain": [
       "     brand                 model sd_card                    main_camera  \\\n",
       "0  Samsung            Galaxy S10     yes       3 Cameras: 12, 12, 16 MP   \n",
       "1  Samsung  Galaxy Note 20 Ultra     yes      3 Cameras: 108, 12, 12 MP   \n",
       "2  Samsung         Galaxy A54 5G     yes        3 Cameras: 50, 12, 5 MP   \n",
       "3    Tecno          Camon 20 Pro      no            2 Cameras: 64, 2 MP   \n",
       "4  Samsung      Galaxy S22 Ultra      no  4 Cameras: 108, 10, 10, 12 MP   \n",
       "\n",
       "    resolution       display sim_card       os   color         region  \\\n",
       "0  1440 x 3040        AMOLED   Single  Android   White  Greater Accra   \n",
       "1  1440 x 3088        AMOLED     Dual  Android  Bronze  Greater Accra   \n",
       "2  1080 x 2340  Super AMOLED     Dual  Android   Black  Greater Accra   \n",
       "3  1080 x 2400        AMOLED     Dual  Android   Black  Greater Accra   \n",
       "4  1400 x 3088        AMOLED     Dual  Android   Black  Greater Accra   \n",
       "\n",
       "             location  \n",
       "0              Circle  \n",
       "1              Circle  \n",
       "2  Accra Metropolitan  \n",
       "3  Accra Metropolitan  \n",
       "4  Accra Metropolitan  "
      ]
     },
     "metadata": {},
     "output_type": "display_data"
    }
   ],
   "source": [
    "cat = df.select_dtypes(exclude = \"number\")\n",
    "num = df.select_dtypes(include = 'number')\n",
    "\n",
    "print('Numerical Data')\n",
    "display(num.head())\n",
    "print(f'\\n\\nCategorical Data')\n",
    "display(cat.head())"
   ]
  },
  {
   "cell_type": "code",
   "execution_count": 271,
   "metadata": {},
   "outputs": [],
   "source": [
    "df['brand'] = df['brand'].astype('category')"
   ]
  },
  {
   "cell_type": "code",
   "execution_count": 247,
   "metadata": {},
   "outputs": [],
   "source": [
    "# df = data.drop('Apple')\n",
    "# df.head()"
   ]
  },
  {
   "cell_type": "code",
   "execution_count": 248,
   "metadata": {},
   "outputs": [],
   "source": [
    "# for i in df.columns:\n",
    "#     if ((df[i].isnull().sum() / len(df)) * 100) < 30:\n",
    "#         if df[i].dtypes != 'O':\n",
    "#             df[i].fillna(df[i].median(), inplace = True)\n",
    "#         else:\n",
    "#             df[i].fillna(df[i].mode()[0], inplace = True)\n",
    "#     else:\n",
    "#         df.drop(i, axis = 1, inplace = True)\n",
    "\n",
    "# df.isnull().sum()"
   ]
  },
  {
   "cell_type": "code",
   "execution_count": 249,
   "metadata": {},
   "outputs": [],
   "source": [
    "# brand_model_counts = df.groupby(['brand', 'model']).size().reset_index(name ='Counts')\n",
    "# brand_model_counts"
   ]
  },
  {
   "cell_type": "code",
   "execution_count": 250,
   "metadata": {},
   "outputs": [
    {
     "data": {
      "text/plain": [
       "{'brand_encoder': LabelEncoder(),\n",
       " 'model_encoder': LabelEncoder(),\n",
       " 'sd_card_encoder': LabelEncoder(),\n",
       " 'main_camera_encoder': LabelEncoder(),\n",
       " 'resolution_encoder': LabelEncoder(),\n",
       " 'display_encoder': LabelEncoder(),\n",
       " 'sim_card_encoder': LabelEncoder(),\n",
       " 'os_encoder': LabelEncoder(),\n",
       " 'color_encoder': LabelEncoder(),\n",
       " 'region_encoder': LabelEncoder(),\n",
       " 'location_encoder': LabelEncoder()}"
      ]
     },
     "execution_count": 250,
     "metadata": {},
     "output_type": "execute_result"
    }
   ],
   "source": [
    "# LABEL ENCODE THE CATEGORICAL COLUMNS\n",
    "import joblib\n",
    "from sklearn.preprocessing import LabelEncoder\n",
    "\n",
    "encoded = {}  # ................................................................ Have a dictionary to save the encoders\n",
    "for i in cat.columns: # ........................................................ Iterate through the new_categorical variables\n",
    "    encode = LabelEncoder() # .................................................. Instantiate the encoder transformer\n",
    "    df[i] = encode.fit_transform(df[i]) # ...................................... Encode the columns in ech iteration\n",
    "    joblib.dump(encode, open(f'{i}_encoder.pkl', 'wb')) # ...................... Save the transformer to file for future reusaldf[i] = encode.fit_transform(df[i]) # ...................................... Encode the columns in ech iteration\n",
    "    encoded[i +'_encoder'] = encode # .......................................... Save the transformer to the above stated dictionary for easy access\n",
    "\n",
    "encoded"
   ]
  },
  {
   "cell_type": "code",
   "execution_count": 251,
   "metadata": {},
   "outputs": [
    {
     "data": {
      "text/plain": [
       "<Axes: title={'center': 'Feature importance'}, xlabel='F score', ylabel='Features'>"
      ]
     },
     "execution_count": 251,
     "metadata": {},
     "output_type": "execute_result"
    },
    {
     "data": {
      "image/png": "[encoded data removed]",
      "text/plain": [
       "<Figure size 640x480 with 1 Axes>"
      ]
     },
     "metadata": {},
     "output_type": "display_data"
    }
   ],
   "source": [
    "# conduct Feature Selection\n",
    "# - Using XGBOOST to find feature importance\n",
    "\n",
    "import matplotlib.pyplot as plt\n",
    "import xgboost as xgb\n",
    "\n",
    "model = xgb.XGBClassifier()\n",
    "\n",
    "x = df.brand\n",
    "y = df.model\n",
    "\n",
    "model.fit(x, y)\n",
    "\n",
    "# Print feature importance scores\n",
    "xgb.plot_importance(model, importance_type = 'weight')"
   ]
  },
  {
   "cell_type": "code",
   "execution_count": 252,
   "metadata": {},
   "outputs": [],
   "source": [
    "# brand = ['Apple', 'Samsung', 'Google', 'Nokia', 'Huawei',\n",
    "#             'Infinix', 'Motorola', 'Xiaomi']\n",
    "# sel_cols = ['brand']\n",
    "\n",
    "# new_data = df[sel_cols]\n",
    "# new_data.head()"
   ]
  },
  {
   "cell_type": "code",
   "execution_count": 253,
   "metadata": {},
   "outputs": [
    {
     "data": {
      "text/plain": [
       "['price(¢)']"
      ]
     },
     "execution_count": 253,
     "metadata": {},
     "output_type": "execute_result"
    }
   ],
   "source": [
    "columns_to_scale = []\n",
    "for i in new_num.columns:\n",
    "    if df[i].describe()[2] > 1500:\n",
    "        columns_to_scale.append(i)\n",
    "\n",
    "columns_to_scale"
   ]
  },
  {
   "cell_type": "code",
   "execution_count": 254,
   "metadata": {},
   "outputs": [
    {
     "data": {
      "text/plain": [
       "(3600, 17)"
      ]
     },
     "execution_count": 254,
     "metadata": {},
     "output_type": "execute_result"
    }
   ],
   "source": [
    "df.shape"
   ]
  },
  {
   "cell_type": "code",
   "execution_count": 255,
   "metadata": {},
   "outputs": [
    {
     "data": {
      "text/plain": [
       "array([16, 17,  8, 18,  5,  6,  0,  2, 13, 11, 14,  7, 10, 15, 20,  9, 12,\n",
       "        1,  3, 19,  4])"
      ]
     },
     "execution_count": 255,
     "metadata": {},
     "output_type": "execute_result"
    }
   ],
   "source": [
    "df['brand'].unique()"
   ]
  },
  {
   "cell_type": "code",
   "execution_count": 256,
   "metadata": {},
   "outputs": [],
   "source": [
    "# brand = df.loc[df[0] == 'brand']\n",
    "# model = df.loc[df[0] == 'model']\n",
    "\n",
    "# brand = brand[1].reset_index(drop = True)\n",
    "# model = model[1].reset_index(drop = True)\n",
    "\n",
    "# new_df = pd.DataFrame()\n",
    "# new_df['brand'] = brand\n",
    "# new_df['model'] = model\n",
    "\n",
    "# new_df.head()"
   ]
  },
  {
   "cell_type": "code",
   "execution_count": 257,
   "metadata": {},
   "outputs": [],
   "source": [
    "import plotly.express as px"
   ]
  },
  {
   "cell_type": "code",
   "execution_count": 258,
   "metadata": {},
   "outputs": [],
   "source": [
    "#fig = px.histogram(df, x = 'brand')\n",
    "#fig.show()"
   ]
  },
  {
   "cell_type": "code",
   "execution_count": 259,
   "metadata": {},
   "outputs": [],
   "source": [
    "# df.groupby('brand', 'model')"
   ]
  },
  {
   "cell_type": "code",
   "execution_count": 260,
   "metadata": {},
   "outputs": [],
   "source": [
    "# brand_model_counts = df.groupby(['brand', 'model']).size().reset_index(name ='Counts')\n",
    "# brand_model_counts"
   ]
  },
  {
   "cell_type": "code",
   "execution_count": 261,
   "metadata": {},
   "outputs": [],
   "source": [
    "# brand_model_counts = df.groupby(['brand', 'model']).size().reset_index(name ='Counts')\n",
    "# most_popular_model = brand_model_counts.groupby('brand')['Counts'].idxmax()\n",
    "# most_popular_models_df = brand_model_counts.loc[most_popular_model]\n",
    "\n",
    "# #Creating the bar chart...\n",
    "\n",
    "# fig = px.bar(most_popular_models_df, x = 'brand', y = 'Counts', text = 'model', title = \"Most Popular Phone Model for Each Brand in Ghana Phone Market\")\n",
    "# fig.show()"
   ]
  },
  {
   "cell_type": "code",
   "execution_count": 262,
   "metadata": {},
   "outputs": [],
   "source": [
    "# sel_cols = ['Apple', 'Samsung', 'Google', 'Nokia', 'Huawei',\n",
    "#             'Infinix', 'Motorola', 'Xiaomi']\n",
    "\n",
    "# new_data = df[sel_cols]\n",
    "# new_data.head()"
   ]
  }
 ],
 "metadata": {
  "kernelspec": {
   "display_name": "Python 3",
   "language": "python",
   "name": "python3"
  },
  "language_info": {
   "codemirror_mode": {
    "name": "ipython",
    "version": 3
   },
   "file_extension": ".py",
   "mimetype": "text/x-python",
   "name": "python",
   "nbconvert_exporter": "python",
   "pygments_lexer": "ipython3",
   "version": "3.11.8"
  }
 },
 "nbformat": 4,
 "nbformat_minor": 2
}
